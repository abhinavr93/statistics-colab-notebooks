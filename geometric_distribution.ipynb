{
  "nbformat": 4,
  "nbformat_minor": 0,
  "metadata": {
    "colab": {
      "name": "geometric_distribution.ipynb",
      "provenance": [],
      "authorship_tag": "ABX9TyNwWJenUDy3+xlch3w2mu32",
      "include_colab_link": true
    },
    "kernelspec": {
      "name": "python3",
      "display_name": "Python 3"
    },
    "language_info": {
      "name": "python"
    }
  },
  "cells": [
    {
      "cell_type": "markdown",
      "metadata": {
        "id": "view-in-github",
        "colab_type": "text"
      },
      "source": [
        "<a href=\"https://colab.research.google.com/github/abhinavr93/statistics-colab-notebooks/blob/main/geometric_distribution.ipynb\" target=\"_parent\"><img src=\"https://colab.research.google.com/assets/colab-badge.svg\" alt=\"Open In Colab\"/></a>"
      ]
    },
    {
      "cell_type": "code",
      "execution_count": 1,
      "metadata": {
        "id": "lrPu0e-yetq6"
      },
      "outputs": [],
      "source": [
        "import matplotlib.pyplot as plt\n",
        "import numpy as np"
      ]
    },
    {
      "cell_type": "markdown",
      "source": [
        "# Function that returns numbers from a geometric distribution\n",
        "- `n`: Total number of outcomes possible in a trial\n",
        "- `vec`: values of the successful outcomes belonging to 1 to n\n",
        "\n",
        "The return value is that of a geometric random variable with probability of success: \n",
        "\n",
        "$p = \\frac{\\text{num of elements in vec}}{n}$"
      ],
      "metadata": {
        "id": "oq3uGGDqe0SK"
      }
    },
    {
      "cell_type": "code",
      "source": [
        "def geometric(n,vec):\n",
        "    num = 1\n",
        "    while not np.random.randint(1,n+1) in vec:\n",
        "        num += 1\n",
        "    return num\n",
        "\n",
        "print(geometric(6,[6]))"
      ],
      "metadata": {
        "colab": {
          "base_uri": "https://localhost:8080/"
        },
        "id": "PEKfKbSlfFlg",
        "outputId": "b4dfdb34-6c01-4c8d-92de-8bf89036ff51"
      },
      "execution_count": 13,
      "outputs": [
        {
          "output_type": "stream",
          "name": "stdout",
          "text": [
            "2\n"
          ]
        }
      ]
    },
    {
      "cell_type": "markdown",
      "source": [
        "# Geometric Distribution"
      ],
      "metadata": {
        "id": "pI2f-OEwoxAX"
      }
    },
    {
      "cell_type": "code",
      "source": [
        "NUM_TRIALS = 10000\n",
        "size = 30\n",
        "probabilities = [0]*size\n",
        "\n",
        "for i in range(NUM_TRIALS):\n",
        "    gnum = geometric(6,[6])\n",
        "    if (gnum < size+1):\n",
        "        probabilities[gnum-1] += 1/NUM_TRIALS\n",
        "\n",
        "plt.xlabel(\"Number of throws until first success\")\n",
        "plt.ylabel(\"Probability\")\n",
        "plt.bar(range(1,size+1), probabilities) "
      ],
      "metadata": {
        "colab": {
          "base_uri": "https://localhost:8080/",
          "height": 297
        },
        "outputId": "0bc312e9-34f0-457c-bcfe-e84cfc10e88f",
        "id": "r3TqxeSho14z"
      },
      "execution_count": 30,
      "outputs": [
        {
          "output_type": "execute_result",
          "data": {
            "text/plain": [
              "<BarContainer object of 30 artists>"
            ]
          },
          "metadata": {},
          "execution_count": 30
        },
        {
          "output_type": "display_data",
          "data": {
            "text/plain": [
              "<Figure size 432x288 with 1 Axes>"
            ],
            "image/png": "[encoded data removed]"
          },
          "metadata": {
            "needs_background": "light"
          }
        }
      ]
    },
    {
      "cell_type": "markdown",
      "source": [
        "# Probability distribution for minimum of two Geometric Random Variables"
      ],
      "metadata": {
        "id": "ol4hC8y1ifAV"
      }
    },
    {
      "cell_type": "code",
      "source": [
        "NUM_TRIALS = 10000\n",
        "size = 30\n",
        "probabilities = [0]*size\n",
        "\n",
        "for i in range(NUM_TRIALS):\n",
        "    gnum = min(geometric(6,[6]), geometric(6,[6]))\n",
        "    if (gnum < size+1):\n",
        "        probabilities[gnum-1] += 1/NUM_TRIALS\n",
        "\n",
        "plt.xlabel(\"Minimum of result of the two trials\")\n",
        "plt.ylabel(\"Probability\")\n",
        "plt.bar(range(1,size+1), probabilities) "
      ],
      "metadata": {
        "colab": {
          "base_uri": "https://localhost:8080/",
          "height": 297
        },
        "id": "ggZ7e3LVi1y6",
        "outputId": "9fe5317d-970b-41bd-c267-f126e1f1369e"
      },
      "execution_count": 29,
      "outputs": [
        {
          "output_type": "execute_result",
          "data": {
            "text/plain": [
              "<BarContainer object of 30 artists>"
            ]
          },
          "metadata": {},
          "execution_count": 29
        },
        {
          "output_type": "display_data",
          "data": {
            "text/plain": [
              "<Figure size 432x288 with 1 Axes>"
            ],
            "image/png": "[encoded data removed]"
          },
          "metadata": {
            "needs_background": "light"
          }
        }
      ]
    }
  ]
}