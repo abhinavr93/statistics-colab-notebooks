{
  "nbformat": 4,
  "nbformat_minor": 0,
  "metadata": {
    "colab": {
      "name": "Two Dice Roll",
      "provenance": [],
      "collapsed_sections": [],
      "include_colab_link": true
    },
    "kernelspec": {
      "name": "python3",
      "display_name": "Python 3"
    }
  },
  "cells": [
    {
      "cell_type": "markdown",
      "metadata": {
        "id": "view-in-github",
        "colab_type": "text"
      },
      "source": [
        "<a href=\"https://colab.research.google.com/gist/abhinavr93/bc60a09765286664a22a107213d9eeda/ea_twodieroll.ipynb\" target=\"_parent\"><img src=\"https://colab.research.google.com/assets/colab-badge.svg\" alt=\"Open In Colab\"/></a>"
      ]
    },
    {
      "cell_type": "markdown",
      "source": [
        "# Importing Packages"
      ],
      "metadata": {
        "id": "4_vMTUiADvFt"
      }
    },
    {
      "cell_type": "code",
      "source": [
        "import numpy as np\n",
        "import scipy.stats as st\n",
        "import pandas as pd\n",
        "import matplotlib.pyplot as plt"
      ],
      "metadata": {
        "id": "rePVO7noD6Uu"
      },
      "execution_count": 1,
      "outputs": []
    },
    {
      "cell_type": "markdown",
      "source": [
        "# Generate number from a uniform distribution\n",
        "\n",
        "$n$: number of outcomes in the sample space\n",
        "\n",
        "Output: $m$ outcomes selected uniformly at random from 1 to $n$"
      ],
      "metadata": {
        "id": "algbLrRfD-bO"
      }
    },
    {
      "cell_type": "code",
      "source": [
        "def uniform(n, m):\n",
        "  return np.random.randint(1, n+1, size = m)"
      ],
      "metadata": {
        "id": "__lwMqCVEXDJ"
      },
      "execution_count": 2,
      "outputs": []
    },
    {
      "cell_type": "markdown",
      "source": [
        "# **Two Dice Rolls** [Sum of two uniform random variables]\n",
        "\n",
        "Below I have written a code that uses monte-carlo simulations to compute the probabilities of the sum of the results of two die rolls."
      ],
      "metadata": {
        "id": "tMx9SxQs2Ncm"
      }
    },
    {
      "cell_type": "code",
      "source": [
        "NUM_TRIALS = 100000\n",
        "probabilities = [0]*13 # Max sum is 12 so taking 13 elements from 0 to 12\n",
        "\n",
        "for i in range(NUM_TRIALS):\n",
        "    die_sum = uniform(6, 1) + uniform(6,1)\n",
        "    probabilities[die_sum[0]] += 1/NUM_TRIALS\n",
        "\n",
        "plt.xlabel(\"Sum of dice throws (X+Y)\")\n",
        "plt.ylabel(\"P(X+Y)\")\n",
        "plt.bar(range(2,13), probabilities[2:])\n",
        "\n",
        "print(f'Sum of probabilities: {sum(probabilities[2:])}')"
      ],
      "metadata": {
        "colab": {
          "base_uri": "https://localhost:8080/",
          "height": 297
        },
        "id": "FxEVNHQM26UQ",
        "outputId": "9b0e09be-9e66-4171-cd17-ccfbd4be2c5b"
      },
      "execution_count": 7,
      "outputs": [
        {
          "output_type": "stream",
          "name": "stdout",
          "text": [
            "Sum of probabilities: 1.0000000000000109\n"
          ]
        },
        {
          "output_type": "display_data",
          "data": {
            "text/plain": [
              "<Figure size 432x288 with 1 Axes>"
            ],
            "image/png": "[encoded data removed]"
          },
          "metadata": {
            "needs_background": "light"
          }
        }
      ]
    },
    {
      "cell_type": "markdown",
      "source": [
        "# **Two Dice Rolls** [Max of two uniform random variables]\n",
        "\n",
        "Below I have written a code that uses monte-carlo simulations to compute the probabilities of the max of the results of two die rolls."
      ],
      "metadata": {
        "id": "mT5G2O-eDjA3"
      }
    },
    {
      "cell_type": "code",
      "source": [
        "NUM_TRIALS = 100000\n",
        "probabilities = [0]*6 # Max num is 6 so taking 6 elements from 0 to 5\n",
        "\n",
        "for i in range(NUM_TRIALS):\n",
        "    max_num = max(uniform(6, 1)[0], uniform(6,1)[0])\n",
        "    probabilities[max_num - 1] += 1/NUM_TRIALS\n",
        "\n",
        "plt.xlabel(\"Max of dice throws, Max(X,Y)\")\n",
        "plt.ylabel(\"P( Max(X,Y) )\")\n",
        "plt.bar(range(1,7), probabilities)\n",
        "\n",
        "print(f'Sum of probabilities: {sum(probabilities)}')"
      ],
      "metadata": {
        "id": "uqSuhw23Dskx",
        "outputId": "effa1116-3904-4764-bf66-863c52f132d9",
        "colab": {
          "base_uri": "https://localhost:8080/",
          "height": 297
        }
      },
      "execution_count": 8,
      "outputs": [
        {
          "output_type": "stream",
          "name": "stdout",
          "text": [
            "Sum of probabilities: 1.0000000000003253\n"
          ]
        },
        {
          "output_type": "display_data",
          "data": {
            "text/plain": [
              "<Figure size 432x288 with 1 Axes>"
            ],
            "image/png": "[encoded data removed]"
          },
          "metadata": {
            "needs_background": "light"
          }
        }
      ]
    }
  ]
}